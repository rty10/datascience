{
 "cells": [
  {
   "cell_type": "markdown",
   "id": "front-office",
   "metadata": {},
   "source": [
    "# Getting Started\n",
    "\n",
    "This is a Jupyter Notebook.\n",
    "\n",
    "This computational tool allows for Python programming in a web browser without having to use a multi-window environment. You can write and run your code all in one sitting.\n",
    "\n",
    "Below in the empty code block, have your computer say \"__Hello, World!__\" to get started."
   ]
  },
  {
   "cell_type": "code",
   "execution_count": 1,
   "id": "instant-moderator",
   "metadata": {
    "scrolled": true
   },
   "outputs": [
    {
     "name": "stdout",
     "output_type": "stream",
     "text": [
      "Hello, World\n",
      "Hello, World\n"
     ]
    }
   ],
   "source": [
    "print(\"Hello, World\")\n",
    "\n",
    "print('Hello, World')\n"
   ]
  },
  {
   "cell_type": "markdown",
   "id": "gross-kansas",
   "metadata": {},
   "source": [
    "Coding **SYNTAX** in critical. 4, 4.0, and '4' all mean the something different. \n",
    "\n",
    "**VARIABLES** are used to stored information, such as numbers, integers, strings, lists, arrays, and databases. Be careful not to overuse the same variable- you can overwrite stored data.\n",
    "\n",
    "Use three variables on the list of 4's mentioned above"
   ]
  },
  {
   "cell_type": "code",
   "execution_count": 2,
   "id": "instant-liechtenstein",
   "metadata": {},
   "outputs": [],
   "source": [
    "a = 4\n",
    "b = 4.0\n",
    "c = \"4\""
   ]
  },
  {
   "cell_type": "code",
   "execution_count": 3,
   "id": "awful-encyclopedia",
   "metadata": {},
   "outputs": [
    {
     "name": "stdout",
     "output_type": "stream",
     "text": [
      "4\n"
     ]
    }
   ],
   "source": [
    "print(c)"
   ]
  },
  {
   "cell_type": "markdown",
   "id": "south-banana",
   "metadata": {},
   "source": [
    "__Task__: print a statement that contains produce items you need at the grocery store.\n",
    "\n",
    "Then, re-write that statement to include how many of each you need to get"
   ]
  },
  {
   "cell_type": "code",
   "execution_count": 4,
   "id": "found-chess",
   "metadata": {},
   "outputs": [],
   "source": [
    "grocery = \"Robb, you need to pick up pineapple, grapes, and apples.\""
   ]
  },
  {
   "cell_type": "code",
   "execution_count": 5,
   "id": "proper-colors",
   "metadata": {},
   "outputs": [
    {
     "name": "stdout",
     "output_type": "stream",
     "text": [
      "Robb, you need to pick up pineapple, grapes, and apples.\n"
     ]
    }
   ],
   "source": [
    "print(grocery)"
   ]
  },
  {
   "cell_type": "code",
   "execution_count": 6,
   "id": "motivated-gateway",
   "metadata": {},
   "outputs": [
    {
     "name": "stdout",
     "output_type": "stream",
     "text": [
      "Robb, you need to pick up one pineapple, a dozen grapes, and six apples.\n"
     ]
    }
   ],
   "source": [
    "grocery = \"Robb, you need to pick up one pineapple, a dozen grapes, and six apples.\"\n",
    "print(grocery)"
   ]
  },
  {
   "cell_type": "markdown",
   "id": "serious-grenada",
   "metadata": {},
   "source": [
    "## Built-in Data Types\n",
    "In programming, data type is a critical concept.\n",
    "\n",
    "__Variables__ can store data of different types, and different types can do different things.\n",
    "\n",
    "Python has the following data types built-in by default, in these categories:\n",
    "\n",
    "- Text Type:\t__str__  \n",
    "- Numeric Types:\t__int__, __float__, __complex__  \n",
    "- Sequence Types:\t__list__, __tuple__, __range__\n",
    "- Mapping Type:\t__dict__  \n",
    "- Set Types:\t__set__, __frozenset__  \n",
    "- Boolean Type:\t__bool__  \n",
    "- Binary Types:\t__bytes__, __bytearray__, __memoryview__  \n",
    "\n",
    "Revisit the multiple 4's used earlier to see those data types."
   ]
  },
  {
   "cell_type": "code",
   "execution_count": 10,
   "id": "unable-investing",
   "metadata": {},
   "outputs": [
    {
     "name": "stdout",
     "output_type": "stream",
     "text": [
      "4\n"
     ]
    },
    {
     "data": {
      "text/plain": [
       "int"
      ]
     },
     "execution_count": 10,
     "metadata": {},
     "output_type": "execute_result"
    }
   ],
   "source": [
    "print(a)\n",
    "type(a)"
   ]
  },
  {
   "cell_type": "code",
   "execution_count": 11,
   "id": "geographic-shark",
   "metadata": {},
   "outputs": [
    {
     "name": "stdout",
     "output_type": "stream",
     "text": [
      "4\n"
     ]
    },
    {
     "data": {
      "text/plain": [
       "str"
      ]
     },
     "execution_count": 11,
     "metadata": {},
     "output_type": "execute_result"
    }
   ],
   "source": [
    "print(c)\n",
    "type(c)"
   ]
  },
  {
   "cell_type": "code",
   "execution_count": 12,
   "id": "geographic-vocabulary",
   "metadata": {},
   "outputs": [
    {
     "name": "stdout",
     "output_type": "stream",
     "text": [
      "4.0\n"
     ]
    },
    {
     "data": {
      "text/plain": [
       "float"
      ]
     },
     "execution_count": 12,
     "metadata": {},
     "output_type": "execute_result"
    }
   ],
   "source": [
    "print(b)\n",
    "type(b)"
   ]
  },
  {
   "cell_type": "markdown",
   "id": "breeding-daisy",
   "metadata": {},
   "source": [
    "There are three numeric types in Python:\n",
    "\n",
    "- *int*\n",
    "- *float*\n",
    "- *complex*  \n",
    "\n",
    "\n",
    "Variables of numeric types are created when you assign a value to them.\n",
    "You can convert from one type to another with the int(), float(), and complex() methods:  "
   ]
  },
  {
   "cell_type": "code",
   "execution_count": 17,
   "id": "prepared-academy",
   "metadata": {},
   "outputs": [
    {
     "data": {
      "text/plain": [
       "float"
      ]
     },
     "execution_count": 17,
     "metadata": {},
     "output_type": "execute_result"
    }
   ],
   "source": [
    "d = 4.50\n",
    "type(d)"
   ]
  },
  {
   "cell_type": "code",
   "execution_count": 18,
   "id": "solved-sport",
   "metadata": {},
   "outputs": [
    {
     "name": "stdout",
     "output_type": "stream",
     "text": [
      "4\n"
     ]
    },
    {
     "data": {
      "text/plain": [
       "int"
      ]
     },
     "execution_count": 18,
     "metadata": {},
     "output_type": "execute_result"
    }
   ],
   "source": [
    "d = int(d)\n",
    "print(d)\n",
    "type(d)"
   ]
  },
  {
   "cell_type": "markdown",
   "id": "humanitarian-leonard",
   "metadata": {},
   "source": [
    "## Python Operators\n",
    "Operators are used to perform operations on variables and values. But pay attention: values used MUST share data types and some cannot work with int types\n",
    "\n",
    "|Operator|Name|Example|\n",
    "|----|----|----|\n",
    "|+|\tAddition |\tx + y |\t\n",
    "|-|\tSubtraction |\tx - y |\t\n",
    "|*|\tMultiplication |\tx * y\t|\n",
    "|/|\tDivision |\tx / y\t|\n",
    "|%|\tModulus |\tx % y\t|\n",
    "|**|\tExponentiation |\tx ** y\t|\n",
    "|//|\tFloor division |\tx // y |\n",
    "\n"
   ]
  },
  {
   "cell_type": "code",
   "execution_count": 20,
   "id": "exact-letter",
   "metadata": {},
   "outputs": [
    {
     "data": {
      "text/plain": [
       "2.808"
      ]
     },
     "execution_count": 20,
     "metadata": {},
     "output_type": "execute_result"
    }
   ],
   "source": [
    "14.04 / 5.0"
   ]
  },
  {
   "cell_type": "code",
   "execution_count": 21,
   "id": "infinite-banks",
   "metadata": {},
   "outputs": [
    {
     "data": {
      "text/plain": [
       "4.039999999999999"
      ]
     },
     "execution_count": 21,
     "metadata": {},
     "output_type": "execute_result"
    }
   ],
   "source": [
    "14.04 % 5.0"
   ]
  },
  {
   "cell_type": "code",
   "execution_count": 22,
   "id": "divided-terrorism",
   "metadata": {},
   "outputs": [
    {
     "data": {
      "text/plain": [
       "2.0"
      ]
     },
     "execution_count": 22,
     "metadata": {},
     "output_type": "execute_result"
    }
   ],
   "source": [
    "14.04 // 5.0"
   ]
  },
  {
   "cell_type": "code",
   "execution_count": 23,
   "id": "distinct-windsor",
   "metadata": {},
   "outputs": [],
   "source": [
    "x = 5.00\n",
    "y = 12.98\n",
    "\n",
    "A = x + y\n",
    "B = x - y \n",
    "C = x * y"
   ]
  },
  {
   "cell_type": "code",
   "execution_count": 24,
   "id": "threatened-kuwait",
   "metadata": {},
   "outputs": [
    {
     "name": "stdout",
     "output_type": "stream",
     "text": [
      "17.98\n",
      "-7.98\n",
      "64.9\n"
     ]
    }
   ],
   "source": [
    "print(A)\n",
    "print(B)\n",
    "print(C)"
   ]
  },
  {
   "cell_type": "code",
   "execution_count": 28,
   "id": "italian-flood",
   "metadata": {},
   "outputs": [
    {
     "ename": "TypeError",
     "evalue": "can only concatenate str (not \"float\") to str",
     "output_type": "error",
     "traceback": [
      "\u001b[1;31m---------------------------------------------------------------------------\u001b[0m",
      "\u001b[1;31mTypeError\u001b[0m                                 Traceback (most recent call last)",
      "\u001b[1;32m<ipython-input-28-308c42a7557f>\u001b[0m in \u001b[0;36m<module>\u001b[1;34m\u001b[0m\n\u001b[0;32m      4\u001b[0m \u001b[0my\u001b[0m \u001b[1;33m=\u001b[0m \u001b[0mfloat\u001b[0m\u001b[1;33m(\u001b[0m\u001b[1;36m12.98\u001b[0m\u001b[1;33m)\u001b[0m\u001b[1;33m\u001b[0m\u001b[1;33m\u001b[0m\u001b[0m\n\u001b[0;32m      5\u001b[0m \u001b[1;33m\u001b[0m\u001b[0m\n\u001b[1;32m----> 6\u001b[1;33m \u001b[0mA\u001b[0m \u001b[1;33m=\u001b[0m \u001b[0mx\u001b[0m \u001b[1;33m+\u001b[0m \u001b[0my\u001b[0m\u001b[1;33m\u001b[0m\u001b[1;33m\u001b[0m\u001b[0m\n\u001b[0m\u001b[0;32m      7\u001b[0m \u001b[0mB\u001b[0m \u001b[1;33m=\u001b[0m \u001b[0mx\u001b[0m \u001b[1;33m-\u001b[0m \u001b[0my\u001b[0m\u001b[1;33m\u001b[0m\u001b[1;33m\u001b[0m\u001b[0m\n\u001b[0;32m      8\u001b[0m \u001b[0mC\u001b[0m \u001b[1;33m=\u001b[0m \u001b[0mx\u001b[0m \u001b[1;33m*\u001b[0m \u001b[0my\u001b[0m\u001b[1;33m\u001b[0m\u001b[1;33m\u001b[0m\u001b[0m\n",
      "\u001b[1;31mTypeError\u001b[0m: can only concatenate str (not \"float\") to str"
     ]
    }
   ],
   "source": [
    "# You do NOT have to work with only values, you can use variables in your operations!\n",
    "\n",
    "x = \"5\"\n",
    "y = float(12.98)\n",
    "\n",
    "A = x + y\n",
    "B = x - y \n",
    "C = x * y\n",
    "\n",
    "print(A)\n",
    "print(B)\n",
    "print(C)\n"
   ]
  },
  {
   "cell_type": "markdown",
   "id": "metropolitan-relief",
   "metadata": {},
   "source": [
    "## Additional Python Operators\n",
    "\n",
    "### Assignments:\n",
    "\n",
    "|Operator|Example|Same as...|\n",
    "|----|----|----|\n",
    "|=|\tx = 5 |\tx = 5 |\n",
    "|+=|\tx += 3 |\tx = x + 3\t|\n",
    "|-=|\tx -= 3 |\tx = x - 3\t|\n",
    "|*=|\tx *= 3 |\tx = x * 3\t|\n",
    "|/=|\tx /= 3 |\tx = x / 3\t|\n",
    "|%=| x %= 3 |\tx = x % 3\t|\n",
    "|//=| x //= 3 |\tx = x // 3\t|\n",
    "|**=| x **= 3 |\tx = x ** 3\t|\n",
    "\n",
    "### Comparisons:\n",
    "\n",
    "|Operator|Name|Example|\n",
    "|----|----|----|\n",
    "|==| Equal | x == y |\n",
    "|!=|\tNot equal |\tx != y |\t\n",
    "|>|\tGreater than |\tx > y\t|\n",
    "|<|\tLess than |\tx < y\t|\n",
    "|>=|\tGreater than or equal to |\tx >= y\t|\n",
    "|<=|\tLess than or equal to |\tx <= y |\n",
    "\n",
    "### Logical:\n",
    "\n",
    "|Operator|Example|Same as...|\n",
    "|----|----|----|\n",
    "|and|\tReturns True if both statements are true |\tx < 5 and  x < 10\t|\n",
    "|or|\tReturns True if one of the statements is true |\tx < 5 or x < 4\t|\n",
    "|not|\tReverse the result, returns False if the result is true |\tnot(x < 5 and x < 10)|\n"
   ]
  },
  {
   "cell_type": "code",
   "execution_count": 33,
   "id": "returning-dragon",
   "metadata": {},
   "outputs": [
    {
     "name": "stdout",
     "output_type": "stream",
     "text": [
      "5.0\n",
      "10.0\n",
      "5.5\n"
     ]
    }
   ],
   "source": [
    "x = 5.0\n",
    "print(x)\n",
    "\n",
    "x += 5.0\n",
    "print(x)\n",
    "\n",
    "x -= 4.5\n",
    "print(x)"
   ]
  },
  {
   "cell_type": "code",
   "execution_count": 36,
   "id": "studied-makeup",
   "metadata": {},
   "outputs": [
    {
     "data": {
      "text/plain": [
       "False"
      ]
     },
     "execution_count": 36,
     "metadata": {},
     "output_type": "execute_result"
    }
   ],
   "source": [
    "x = 5\n",
    "y = \"5\"\n",
    "\n",
    "x == y"
   ]
  },
  {
   "cell_type": "code",
   "execution_count": 41,
   "id": "competent-relay",
   "metadata": {},
   "outputs": [
    {
     "data": {
      "text/plain": [
       "False"
      ]
     },
     "execution_count": 41,
     "metadata": {},
     "output_type": "execute_result"
    }
   ],
   "source": [
    "x = 5\n",
    "y = 16\n",
    "\n",
    "not(x < 10 or y < 10)"
   ]
  },
  {
   "cell_type": "code",
   "execution_count": 43,
   "id": "fresh-addition",
   "metadata": {},
   "outputs": [
    {
     "name": "stdout",
     "output_type": "stream",
     "text": [
      "True\n"
     ]
    }
   ],
   "source": [
    "d = x<10\n",
    "print(d)"
   ]
  },
  {
   "cell_type": "markdown",
   "id": "orange-nothing",
   "metadata": {},
   "source": [
    "## Python Collections\n",
    "There are four collection data types in the Python programming language:\n",
    "\n",
    "__List__ is a collection which is ordered and changeable. Allows duplicate members.  \n",
    "__Tuple__ is a collection which is ordered and unchangeable. Allows duplicate members.  \n",
    "__Set__ is a collection which is unordered and unindexed. _No duplicate members_.\n",
    "__Dictionary__ is a collection which is unordered, changeable and indexed. _No duplicate members_.  \n",
    "When choosing a collection type, it is useful to understand the properties of that type. Choosing the right type for a particular data set could mean retention of meaning, and, it could mean an increase in efficiency or security.  \n",
    "\n",
    "### List  \n",
    "A list is a collection which is ordered and changeable. In Python lists are written with square brackets.\n",
    "A list can contain different data types.\n",
    "A list can be made by either setting up array with the square brackets or by using the list() constructor."
   ]
  },
  {
   "cell_type": "code",
   "execution_count": 44,
   "id": "nutritional-development",
   "metadata": {},
   "outputs": [
    {
     "name": "stdout",
     "output_type": "stream",
     "text": [
      "[4, 4.0, '4']\n"
     ]
    }
   ],
   "source": [
    "test_list = [4, 4.0, \"4\"]\n",
    "\n",
    "print(test_list)"
   ]
  },
  {
   "cell_type": "markdown",
   "id": "comparative-israel",
   "metadata": {},
   "source": [
    "List items can be accessed through *indexing*. The list's index is the numbered placement an element is within the list.\n",
    "\n",
    "NOTE: Indexing in python starts at **0**, not **1**. This means that the first item of a list is the 0th index.\n",
    "\n",
    "You can access items of a list at specific index values, both positive _or negative_ and can even access a range of entries by _slicing_ the list."
   ]
  },
  {
   "cell_type": "code",
   "execution_count": 45,
   "id": "another-frank",
   "metadata": {},
   "outputs": [
    {
     "data": {
      "text/plain": [
       "4"
      ]
     },
     "execution_count": 45,
     "metadata": {},
     "output_type": "execute_result"
    }
   ],
   "source": [
    "test_list[0]"
   ]
  },
  {
   "cell_type": "code",
   "execution_count": 48,
   "id": "noted-torture",
   "metadata": {},
   "outputs": [
    {
     "data": {
      "text/plain": [
       "4"
      ]
     },
     "execution_count": 48,
     "metadata": {},
     "output_type": "execute_result"
    }
   ],
   "source": [
    "test_list[0]"
   ]
  },
  {
   "cell_type": "code",
   "execution_count": 82,
   "id": "numerous-despite",
   "metadata": {},
   "outputs": [
    {
     "name": "stdout",
     "output_type": "stream",
     "text": [
      "orange\n"
     ]
    }
   ],
   "source": [
    "thislist = [\"apple\", \"banana\", \"cherry\", \"orange\", \"kiwi\", \"melon\", \"mango\"]\n",
    "\n",
    "print(thislist[3]) # this is the FOURTH item in our list"
   ]
  },
  {
   "cell_type": "markdown",
   "id": "preceding-switch",
   "metadata": {},
   "source": [
    "Some great list methods to work with:\n",
    "\n",
    "| Method |\tDescription |\n",
    "|----|----|\n",
    "|append() |\tAdds an element at the end of the list |\n",
    "|clear() |\tRemoves all the elements from the list |\n",
    "|copy() |\tReturns a copy of the list |\n",
    "|count() |\tReturns the number of elements with the specified value |\n",
    "|extend() |\tAdd the elements of a list (or any iterable), to the end of the current list |\n",
    "|index() |\tReturns the index of the first element with the specified value |\n",
    "|insert() |\tAdds an element at the specified position |\n",
    "|pop() |\tRemoves the element at the specified position |\n",
    "|remove() |\tRemoves the item with the specified value |\n",
    "|reverse() |\tReverses the order of the list |\n",
    "|sort() |\tSorts the list |"
   ]
  },
  {
   "cell_type": "code",
   "execution_count": 51,
   "id": "quality-elizabeth",
   "metadata": {},
   "outputs": [
    {
     "name": "stdout",
     "output_type": "stream",
     "text": [
      "['apple', 'pineapple', 'cherry', 'orange', 'kiwi', 'melon', 'mango']\n",
      "\n"
     ]
    }
   ],
   "source": [
    "# To change the value of a specific item, refer to the index number:\n",
    "thislist[1] = \"pineapple\"\n",
    "print(thislist)\n",
    "print()"
   ]
  },
  {
   "cell_type": "code",
   "execution_count": 52,
   "id": "middle-antigua",
   "metadata": {},
   "outputs": [
    {
     "name": "stdout",
     "output_type": "stream",
     "text": [
      "['apple', 'pineapple', 'cherry', 'orange', 'kiwi', 'melon', 'mango', 'banana']\n",
      "\n"
     ]
    }
   ],
   "source": [
    "# To add an item to the end of the list, use the append() method:\n",
    "thislist.append(\"banana\")\n",
    "print(thislist)\n",
    "print()"
   ]
  },
  {
   "cell_type": "code",
   "execution_count": 53,
   "id": "animated-committee",
   "metadata": {},
   "outputs": [
    {
     "name": "stdout",
     "output_type": "stream",
     "text": [
      "['apple', 'tomato', 'pineapple', 'cherry', 'orange', 'kiwi', 'melon', 'mango', 'banana']\n",
      "\n"
     ]
    }
   ],
   "source": [
    "# To add an item at the specified index, use the insert() method:\n",
    "thislist.insert(1, \"tomato\")\n",
    "print(thislist)\n",
    "print()"
   ]
  },
  {
   "cell_type": "code",
   "execution_count": 54,
   "id": "rotary-brave",
   "metadata": {},
   "outputs": [
    {
     "name": "stdout",
     "output_type": "stream",
     "text": [
      "['apple', 'pineapple', 'cherry', 'orange', 'kiwi', 'melon', 'mango', 'banana']\n",
      "\n"
     ]
    }
   ],
   "source": [
    "# The remove() method removes the specified item:\n",
    "thislist.remove(\"tomato\")\n",
    "print(thislist)\n",
    "print()"
   ]
  },
  {
   "cell_type": "code",
   "execution_count": 55,
   "id": "seeing-baghdad",
   "metadata": {},
   "outputs": [
    {
     "name": "stdout",
     "output_type": "stream",
     "text": [
      "['apple', 'pineapple', 'cherry', 'orange', 'kiwi', 'melon', 'mango']\n",
      "\n"
     ]
    }
   ],
   "source": [
    "# The del keyword removes the specified index:\n",
    "del thislist[7]\n",
    "print(thislist)\n",
    "print()"
   ]
  },
  {
   "cell_type": "code",
   "execution_count": 56,
   "id": "anonymous-internship",
   "metadata": {},
   "outputs": [
    {
     "ename": "NameError",
     "evalue": "name 'thislist' is not defined",
     "output_type": "error",
     "traceback": [
      "\u001b[1;31m---------------------------------------------------------------------------\u001b[0m",
      "\u001b[1;31mNameError\u001b[0m                                 Traceback (most recent call last)",
      "\u001b[1;32m<ipython-input-56-837efbca0460>\u001b[0m in \u001b[0;36m<module>\u001b[1;34m\u001b[0m\n\u001b[0;32m      1\u001b[0m \u001b[1;31m# -!- The del keyword can also delete the list completely:\u001b[0m\u001b[1;33m\u001b[0m\u001b[1;33m\u001b[0m\u001b[1;33m\u001b[0m\u001b[0m\n\u001b[0;32m      2\u001b[0m \u001b[1;32mdel\u001b[0m \u001b[0mthislist\u001b[0m\u001b[1;33m\u001b[0m\u001b[1;33m\u001b[0m\u001b[0m\n\u001b[1;32m----> 3\u001b[1;33m \u001b[0mprint\u001b[0m\u001b[1;33m(\u001b[0m\u001b[0mthislist\u001b[0m\u001b[1;33m)\u001b[0m\u001b[1;33m\u001b[0m\u001b[1;33m\u001b[0m\u001b[0m\n\u001b[0m\u001b[0;32m      4\u001b[0m \u001b[0mprint\u001b[0m\u001b[1;33m(\u001b[0m\u001b[1;33m)\u001b[0m\u001b[1;33m\u001b[0m\u001b[1;33m\u001b[0m\u001b[0m\n",
      "\u001b[1;31mNameError\u001b[0m: name 'thislist' is not defined"
     ]
    }
   ],
   "source": [
    "# -!- The del keyword can also delete the list completely:\n",
    "del thislist\n",
    "print(thislist)\n",
    "print()"
   ]
  },
  {
   "cell_type": "code",
   "execution_count": 76,
   "id": "matched-millennium",
   "metadata": {},
   "outputs": [
    {
     "name": "stdout",
     "output_type": "stream",
     "text": [
      "['a', 'b', 'c', 1, 2, 3]\n",
      "\n",
      "[1, 2, 3, 'a', 'b', 'c']\n"
     ]
    }
   ],
   "source": [
    "# You can JOIN two lists by using either '+' or append()\n",
    "\n",
    "list1 = [\"a\", \"b\" , \"c\"]\n",
    "\n",
    "list2 = [1, 2, 3]\n",
    "\n",
    "list3 = list1 + list2\n",
    "\n",
    "list4 = list2 + list1\n",
    "\n",
    "print(list3)\n",
    "print()\n",
    "print(list4)"
   ]
  },
  {
   "cell_type": "code",
   "execution_count": null,
   "id": "adaptive-woman",
   "metadata": {},
   "outputs": [],
   "source": [
    "list1 = list1 + [\"d\"]\n",
    "\n",
    "print(list1)"
   ]
  },
  {
   "cell_type": "code",
   "execution_count": null,
   "id": "accepting-swedish",
   "metadata": {},
   "outputs": [],
   "source": []
  },
  {
   "cell_type": "markdown",
   "id": "medical-journalism",
   "metadata": {},
   "source": [
    "But how can I _make_ a list: You can use a __LOOP__.\n",
    "\n",
    "A __for__ loop is used for iterating over a sequence (that is either a list, a tuple, a dictionary, a set, or a string). This is less like the _for_ keyword in other programming languages, and works more like an iterator method as found in other object-orientated programming languages.\n",
    "\n",
    "With the __for__ loop we can execute a set of statements, once for each item in a list, tuple, set etc.\n",
    "\n",
    "The types of loops you can work with include:\n",
    "- __for__ loops\n",
    "- __if/else__ loops, where \"if\" a condition is met, do A; if another condition is met, do B\n",
    "- __while__ loops, where you do A repeatedly until a condition is met"
   ]
  },
  {
   "cell_type": "code",
   "execution_count": 77,
   "id": "sharp-senegal",
   "metadata": {},
   "outputs": [
    {
     "name": "stdout",
     "output_type": "stream",
     "text": [
      "['a', 'b', 'c']\n",
      "[1, 2, 3]\n",
      "[1, 2, 3, 'a', 'b', 'c']\n"
     ]
    }
   ],
   "source": [
    "print(list1)\n",
    "print(list2)\n",
    "\n",
    "for x in list1:\n",
    "    list2.append(x)\n",
    "\n",
    "print(list2)"
   ]
  },
  {
   "cell_type": "code",
   "execution_count": 79,
   "id": "artistic-election",
   "metadata": {},
   "outputs": [
    {
     "name": "stdout",
     "output_type": "stream",
     "text": [
      "[]\n"
     ]
    }
   ],
   "source": [
    "list2.clear()\n",
    "print(list2)"
   ]
  },
  {
   "cell_type": "code",
   "execution_count": 86,
   "id": "pressed-draft",
   "metadata": {},
   "outputs": [
    {
     "name": "stdout",
     "output_type": "stream",
     "text": [
      "['apple', 'banana', 'cherry', 'orange', 'kiwi', 'melon', 'mango']\n",
      "['apple', 'banana', 'cherry', 'orange', 'kiwi', 'melon', 'mango']\n"
     ]
    }
   ],
   "source": [
    "# Add some items to a list using a for loop\n",
    "thislist\n",
    "\n",
    "grocery_list = []\n",
    "\n",
    "for item in thislist:\n",
    "    grocery_list.append(item)\n",
    "    \n",
    "print(thislist)\n",
    "print(grocery_list)"
   ]
  },
  {
   "cell_type": "code",
   "execution_count": 87,
   "id": "clear-boutique",
   "metadata": {},
   "outputs": [
    {
     "name": "stdout",
     "output_type": "stream",
     "text": [
      "['apple', 'banana', 'cherry', 'orange', 'kiwi', 'melon', 'mango']\n",
      "['apple', 'banana', 'cherry', 'orange', 'kiwi', 'melon']\n"
     ]
    }
   ],
   "source": [
    "thislist\n",
    "\n",
    "grocery_list = []\n",
    "\n",
    "for item in thislist:\n",
    "    \n",
    "    if item != \"mango\":\n",
    "    \n",
    "        grocery_list.append(item)\n",
    "    \n",
    "print(thislist)\n",
    "print(grocery_list)"
   ]
  },
  {
   "cell_type": "code",
   "execution_count": null,
   "id": "athletic-bookmark",
   "metadata": {},
   "outputs": [],
   "source": [
    "# You can run a loop within a loop\n",
    "\n",
    "\n",
    "\n",
    "# If you want to stop the loop based on a specific condition, use \"break\"\n",
    "\n",
    "\n",
    "\n",
    "# If you want to keep one loop going even if it runs into an issue with another loop, use \"continue\"\n",
    "\n",
    "\n",
    "\n",
    "# Unsure how many times you need to iterate over? Try \"range()\""
   ]
  },
  {
   "cell_type": "code",
   "execution_count": null,
   "id": "earned-awareness",
   "metadata": {},
   "outputs": [],
   "source": []
  },
  {
   "cell_type": "markdown",
   "id": "falling-gross",
   "metadata": {},
   "source": [
    "A \"Pythonic\" way to make lists less bulky is to use __list comprehension__, which offers a shorter syntax when you want to create a new list based on the values of an existing list. "
   ]
  },
  {
   "cell_type": "code",
   "execution_count": null,
   "id": "dimensional-ireland",
   "metadata": {},
   "outputs": [],
   "source": []
  },
  {
   "cell_type": "markdown",
   "id": "regulation-transcription",
   "metadata": {},
   "source": [
    "A _list_ stores items, but if you want to store items based on specific indicators, you can use a __dictionary__. A dictionary is accessed based on the \"key\" and once it finds that key, it will access and use the \"value\" associated with it. This of the key as the word you want to learn about in an actual dictionary and its definition is its value. \n",
    "\n",
    "Dictionary items are ordered, changeable, can be of any data type, and does not allow duplicate keys (one can, however, have duplicated values).\n",
    "\n",
    "Dictionary items are presented in key:value pairs, and can be referred to by using the key name.\n",
    "\n",
    "Dictionaries are changeable, meaning that we can change, add or remove items after the dictionary has been created.\n",
    "\n"
   ]
  },
  {
   "cell_type": "code",
   "execution_count": null,
   "id": "electrical-canvas",
   "metadata": {},
   "outputs": [],
   "source": []
  },
  {
   "cell_type": "code",
   "execution_count": null,
   "id": "incorrect-builder",
   "metadata": {},
   "outputs": [],
   "source": [
    "# Now that a dictionary has been made, how do you access it?"
   ]
  },
  {
   "cell_type": "markdown",
   "id": "domestic-seeker",
   "metadata": {},
   "source": [
    "Some great dictionary methods to work with:\n",
    "\n",
    "| Method |\tDescription |\n",
    "|----|----|\n",
    "|clear() |\tRemoves all the elements from the dictionary |\n",
    "|copy()\t| Returns a copy of the dictionary |\n",
    "|fromkeys() |\tReturns a dictionary with the specified keys and value |\n",
    "|get() |\tReturns the value of the specified key |\n",
    "|items() |\tReturns a list containing a tuple for each key value pair |\n",
    "|keys() |\tReturns a list containing the dictionary's keys |\n",
    "|pop() |\tRemoves the element with the specified key |\n",
    "|popitem() |\tRemoves the last inserted key-value pair |\n",
    "|setdefault()\t| Returns the value of the specified key. If the key does not exist: insert the key, with the specified value |\n",
    "|update() |\tUpdates the dictionary with the specified key-value pairs |\n",
    "|values() |\tReturns a list of all the values in the dictionary |"
   ]
  },
  {
   "cell_type": "code",
   "execution_count": null,
   "id": "about-substitute",
   "metadata": {},
   "outputs": [],
   "source": []
  },
  {
   "cell_type": "markdown",
   "id": "processed-simon",
   "metadata": {},
   "source": [
    "### Reading files\n",
    "\n",
    "Files in directories can be loaded into the computer and stored for future use. This is done using the open() function. This function requires two pieces of information: the path and file you are either making or editing and what you want to do with it.\n",
    "\n",
    "You do NOT need a file in your directory to use this function- This function can be used to make files as well.\n",
    "\n",
    "Make sure to save this with a variable. It should look something like this:\n",
    "\n",
    "x = open(file, mode)\n",
    "\n",
    "Modes include:\n",
    "- \"r\" - Read - Default value. Opens a file for reading, error if the file does not exist\n",
    "\n",
    "- \"a\" - Append - Opens a file for appending, creates the file if it does not exist\n",
    "\n",
    "- \"w\" - Write - Opens a file for writing, creates the file if it does not exist\n",
    "\n",
    "- \"x\" - Create - Creates the specified file, returns an error if the file exist\n",
    "\n"
   ]
  },
  {
   "cell_type": "code",
   "execution_count": null,
   "id": "located-packing",
   "metadata": {},
   "outputs": [],
   "source": [
    "# Write a file called boat.txt that contains the lyrics to Row, Row, Row Your Boat.\n",
    "\n",
    "\n",
    "\n"
   ]
  },
  {
   "cell_type": "code",
   "execution_count": null,
   "id": "efficient-librarian",
   "metadata": {},
   "outputs": [],
   "source": [
    "# Write a file called freshman.csv that lists a handful of courses, some course number, the number of credits, the days, and the time in meets\n",
    "\n",
    "\n",
    "\n",
    "\n",
    "\n",
    "# Open freshman.csv and add two additional courses\n",
    "\n",
    "\n",
    "\n",
    "\n"
   ]
  },
  {
   "cell_type": "code",
   "execution_count": null,
   "id": "banner-spring",
   "metadata": {},
   "outputs": [],
   "source": []
  }
 ],
 "metadata": {
  "kernelspec": {
   "display_name": "Python 3",
   "language": "python",
   "name": "python3"
  },
  "language_info": {
   "codemirror_mode": {
    "name": "ipython",
    "version": 3
   },
   "file_extension": ".py",
   "mimetype": "text/x-python",
   "name": "python",
   "nbconvert_exporter": "python",
   "pygments_lexer": "ipython3",
   "version": "3.7.10"
  }
 },
 "nbformat": 4,
 "nbformat_minor": 5
}
