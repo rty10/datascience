{
 "cells": [
  {
   "cell_type": "markdown",
   "id": "front-office",
   "metadata": {},
   "source": [
    "# Getting Started for our next Python-based Workshop\n",
    "\n",
    "------------------------------------------------------------------------------------------\n",
    "\n",
    "# Loops\n",
    "\n"
   ]
  },
  {
   "cell_type": "markdown",
   "id": "junior-decline",
   "metadata": {},
   "source": [
    "Let's recall the idea of making __lists__ and __dictionaries__, or how we can store information. Lists can be made using either:\n",
    "- ['a','b','c']\n",
    "- list('a', 'b', 'c')\n",
    "\n",
    "\n",
    "Here are some methods you can use with lists:\n",
    "\n",
    "| Method |\tDescription |\n",
    "|----|----|\n",
    "|append() |\tAdds an element at the end of the list |\n",
    "|clear() |\tRemoves all the elements from the list |\n",
    "|copy() |\tReturns a copy of the list |\n",
    "|count() |\tReturns the number of elements with the specified value |\n",
    "|extend() |\tAdd the elements of a list (or any iterable), to the end of the current list |\n",
    "|index() |\tReturns the index of the first element with the specified value |\n",
    "|insert() |\tAdds an element at the specified position |\n",
    "|pop() |\tRemoves the element at the specified position |\n",
    "|remove() |\tRemoves the item with the specified value |\n",
    "|reverse() |\tReverses the order of the list |\n",
    "|sort() |\tSorts the list |"
   ]
  },
  {
   "cell_type": "code",
   "execution_count": null,
   "id": "opposed-toner",
   "metadata": {},
   "outputs": [],
   "source": [
    "list1 = ['a','b','c']\n",
    "list2 = list( (1, 2, 3) )\n",
    "\n",
    "print(list1)\n",
    "print(list2)"
   ]
  },
  {
   "cell_type": "code",
   "execution_count": null,
   "id": "fossil-producer",
   "metadata": {},
   "outputs": [],
   "source": [
    "# Make a list of local large universities\n",
    "\n",
    "university = ['Rutgers', 'Princeton', 'TCNJ', 'UPenn', 'NYU', 'Columbia']\n",
    "\n"
   ]
  },
  {
   "cell_type": "code",
   "execution_count": null,
   "id": "alien-subsection",
   "metadata": {},
   "outputs": [],
   "source": [
    "university.append(\"Penn State\")\n",
    "\n",
    "print(university)"
   ]
  },
  {
   "cell_type": "markdown",
   "id": "medical-journalism",
   "metadata": {},
   "source": [
    "But how can I _make_ a list: You can use a __LOOP__.\n",
    "\n",
    "A __for__ loop is used for iterating over a sequence (that is either a list, a tuple, a dictionary, a set, or a string). This is less like the _for_ keyword in other programming languages, and works more like an iterator method as found in other object-orientated programming languages.\n",
    "\n",
    "With the __for__ loop we can execute a set of statements, once for each item in a list, tuple, set etc.\n",
    "\n",
    "The types of loops you can work with include:\n",
    "- __for__ loops\n",
    "- __if/else__ loops, where \"if\" a condition is met, do A; if another condition is met, do B\n",
    "- __while__ loops, where you do A repeatedly until a condition is met"
   ]
  },
  {
   "cell_type": "code",
   "execution_count": null,
   "id": "sharp-senegal",
   "metadata": {},
   "outputs": [],
   "source": [
    "# Use a 'for' loop to add elements of list1 and list2 into a new list\n",
    "list1 = ['a','b','c']\n",
    "list2 = list( (1, 2, 3) )\n",
    "\n",
    "list3 = []\n",
    "\n",
    "for stuff in list1:\n",
    "    list3.append(stuff)\n",
    "    \n",
    "for item in list2:\n",
    "    list3.append(item)\n",
    "\n",
    "print(list3)"
   ]
  },
  {
   "cell_type": "code",
   "execution_count": null,
   "id": "pressed-draft",
   "metadata": {},
   "outputs": [],
   "source": [
    "# Add some items to a list using a for loop\n",
    "\n",
    "need_food    = ['apple', 'banana', 'cherry', 'orange', 'kiwi', 'melon', 'mango']\n",
    "grocery_list = []\n",
    "\n",
    "print(need_food)\n",
    "\n",
    "for item in need_food:\n",
    "    print(item+item)\n",
    "    grocery_list.append(item)\n",
    "    \n",
    "print()\n",
    "print(grocery_list)"
   ]
  },
  {
   "cell_type": "code",
   "execution_count": null,
   "id": "clear-boutique",
   "metadata": {},
   "outputs": [],
   "source": [
    "# You can run a loop within a loop\n",
    "\n",
    "grocery_list = []\n",
    "\n",
    "for item in need_food:\n",
    "    \n",
    "    if item == \"orange\":\n",
    "    \n",
    "        grocery_list.append(item)\n",
    "    \n",
    "print(need_food)\n",
    "print()\n",
    "print(grocery_list)"
   ]
  },
  {
   "cell_type": "code",
   "execution_count": null,
   "id": "destroyed-cream",
   "metadata": {},
   "outputs": [],
   "source": [
    "# If you want to stop the loop based on a specific condition, use \"break\"\n",
    "\n",
    "for item in need_food:\n",
    "    if item == 'cherry':\n",
    "        break\n",
    "    else:\n",
    "        print(item)\n",
    "    \n"
   ]
  },
  {
   "cell_type": "code",
   "execution_count": null,
   "id": "spatial-invite",
   "metadata": {},
   "outputs": [],
   "source": [
    "# If you want to keep the loop going even if it runs into an issue, use \"continue\"\n",
    "\n",
    "for item in need_food:\n",
    "    if item == 'cherry':\n",
    "        continue\n",
    "    else:\n",
    "        print(item)\n",
    "\n"
   ]
  },
  {
   "cell_type": "code",
   "execution_count": null,
   "id": "athletic-bookmark",
   "metadata": {},
   "outputs": [],
   "source": [
    "# Unsure how many times you need to iterate over? Try \"range()\"\n",
    "\n",
    "for i in range( len(need_food) ):\n",
    "    print(str(i))\n",
    "    print(need_food[i])\n",
    "\n",
    "\n"
   ]
  },
  {
   "cell_type": "markdown",
   "id": "falling-gross",
   "metadata": {},
   "source": [
    "A \"Pythonic\" way to make lists less bulky is to use __list comprehension__, which offers a shorter syntax when you want to create a new list based on the values of an existing list.\n",
    "\n",
    "With list comprehension, you are building a loop in a single line"
   ]
  },
  {
   "cell_type": "code",
   "execution_count": null,
   "id": "dimensional-ireland",
   "metadata": {},
   "outputs": [],
   "source": [
    "list1 = ['a','b','c','d','e']\n",
    "\n",
    "list2 = [ list1[i] for i in range(len(list1)) ]\n",
    "print(list2)\n",
    "\n",
    "list3 = [ list1[i] for i in range(len(list1)) if i!=2 ]\n",
    "print(list3)"
   ]
  },
  {
   "cell_type": "markdown",
   "id": "regulation-transcription",
   "metadata": {},
   "source": [
    "A _list_ stores items, but if you want to store items based on specific indicators, you can use a __dictionary__. A dictionary is accessed based on the \"key\" and once it finds that key, it will access and use the \"value\" associated with it. This of the key as the word you want to learn about in an actual dictionary and its definition is its value. \n",
    "\n",
    "Dictionary items are ordered, changeable, can be of any data type, and does not allow duplicate keys (one can, however, have duplicated values).\n",
    "\n",
    "Dictionary items are presented in key:value pairs, and can be referred to by using the key name.\n",
    "\n",
    "Dictionaries are changeable, meaning that we can change, add or remove items after the dictionary has been created.\n",
    "\n"
   ]
  },
  {
   "cell_type": "code",
   "execution_count": null,
   "id": "electrical-canvas",
   "metadata": {},
   "outputs": [],
   "source": [
    "food_dictionary = {'mango':4,\n",
    "                   'banana':2,\n",
    "                   'apple':19}\n",
    "\n",
    "print(food_dictionary)\n"
   ]
  },
  {
   "cell_type": "code",
   "execution_count": null,
   "id": "incorrect-builder",
   "metadata": {},
   "outputs": [],
   "source": [
    "# Now that a dictionary has been made, how do you access it?\n",
    "\n",
    "print(food_dictionary['banana'])\n"
   ]
  },
  {
   "cell_type": "markdown",
   "id": "domestic-seeker",
   "metadata": {},
   "source": [
    "Some great dictionary methods to work with:\n",
    "\n",
    "| Method |\tDescription |\n",
    "|----|----|\n",
    "|clear() |\tRemoves all the elements from the dictionary |\n",
    "|copy()\t| Returns a copy of the dictionary |\n",
    "|fromkeys() |\tReturns a dictionary with the specified keys and value |\n",
    "|get() |\tReturns the value of the specified key |\n",
    "|items() |\tReturns a list containing a tuple for each key value pair |\n",
    "|keys() |\tReturns a list containing the dictionary's keys |\n",
    "|pop() |\tRemoves the element with the specified key |\n",
    "|popitem() |\tRemoves the last inserted key-value pair |\n",
    "|setdefault()\t| Returns the value of the specified key. If the key does not exist: insert the key, with the specified value |\n",
    "|update() |\tUpdates the dictionary with the specified key-value pairs |\n",
    "|values() |\tReturns a list of all the values in the dictionary |"
   ]
  },
  {
   "cell_type": "code",
   "execution_count": null,
   "id": "about-substitute",
   "metadata": {},
   "outputs": [],
   "source": []
  },
  {
   "cell_type": "markdown",
   "id": "nominated-france",
   "metadata": {},
   "source": [
    "# Reading files\n",
    "\n",
    "Files in directories can be loaded into the computer and stored for future use. This is done using the open() function. This function requires two pieces of information: the path and file you are either making or editing and what you want to do with it.\n",
    "\n",
    "You do NOT need a file in your directory to use this function- This function can be used to make files as well.\n",
    "\n",
    "Make sure to save this with a variable. It should look something like this:\n",
    "\n",
    "x = open(file, mode)\n",
    "\n",
    "Modes include:\n",
    "- \"r\" - Read - Default value. Opens a file for reading, error if the file does not exist\n",
    "\n",
    "- \"a\" - Append - Opens a file for appending, creates the file if it does not exist\n",
    "\n",
    "- \"w\" - Write - Opens a file for writing, creates the file if it does not exist\n",
    "\n",
    "- \"x\" - Create - Creates the specified file, returns an error if the file exist"
   ]
  },
  {
   "cell_type": "markdown",
   "id": "processed-simon",
   "metadata": {},
   "source": [
    "In addition to these modes, there are important white space characters that are paired with an \"escape\" character. You may need to use them to be very specific in how you read or write your files. Examples include:\n",
    "- ' \\\\' ' or ' \\\\\" ' maintains quotation marks within a defined string\n",
    "- ' \\t ' is a tab space, which is four spaces in code language\n",
    "- ' \\n ' is a new line, which moves the next string of text to the next line"
   ]
  },
  {
   "cell_type": "code",
   "execution_count": null,
   "id": "located-packing",
   "metadata": {},
   "outputs": [],
   "source": [
    "# Write a file called boat.txt that contains the lyrics to Row, Row, Row Your Boat.\n",
    "\n",
    "x = open(\"boat.txt\", \"w\")\n",
    "\n",
    "song = [\"Row, row, row your boat\", \"Gently down the stream\", \"Merrily, merrily, merrily, merrily\", \"Life is but a dream.\"]\n",
    "\n",
    "for item in song:\n",
    "    x.write(item + \"\\n\" )\n",
    "    \n",
    "x.close()"
   ]
  },
  {
   "cell_type": "markdown",
   "id": "integrated-supervision",
   "metadata": {},
   "source": [
    "How file information is organized upon reading depends on the method used.\n",
    "- read(): \n",
    "- readline():\n",
    "- readlines():"
   ]
  },
  {
   "cell_type": "code",
   "execution_count": null,
   "id": "saving-bundle",
   "metadata": {},
   "outputs": [],
   "source": [
    "y = open(\"boat.txt\", \"r\")\n",
    "\n",
    "data = y.readlines()\n",
    "\n",
    "print(data[0])\n",
    "\n"
   ]
  },
  {
   "cell_type": "code",
   "execution_count": null,
   "id": "married-optimization",
   "metadata": {},
   "outputs": [],
   "source": [
    "print(data)\n",
    "\n",
    "data = [i.rstrip('\\n') for i in data]\n",
    "\n",
    "print(data)"
   ]
  },
  {
   "cell_type": "markdown",
   "id": "primary-purse",
   "metadata": {},
   "source": [
    "Extensions on file names are important. \n",
    "- A '.txt' file is a text file\n",
    "- A '.csv' file is a tabular file where items in each line are separated by commas (hence, Comma Separated files)"
   ]
  },
  {
   "cell_type": "code",
   "execution_count": null,
   "id": "solar-equipment",
   "metadata": {},
   "outputs": [],
   "source": [
    "# Write a file called freshman.csv that lists five courses, \n",
    "# some course number, the number of credits, the days, and the time in meets\n",
    "\n",
    "\n",
    "\n",
    "\n",
    "\n"
   ]
  },
  {
   "cell_type": "code",
   "execution_count": null,
   "id": "efficient-librarian",
   "metadata": {},
   "outputs": [],
   "source": [
    "# Open freshman.csv and add two additional courses\n",
    "\n",
    "\n",
    "\n",
    "\n"
   ]
  },
  {
   "cell_type": "markdown",
   "id": "cultural-intervention",
   "metadata": {},
   "source": [
    "# Modules "
   ]
  },
  {
   "cell_type": "markdown",
   "id": "departmental-insulation",
   "metadata": {},
   "source": [
    "There are a lot of instances where you may want to run the same bit of code over multiple instances. Instand of rewriting that bit of code repeatedly, a \"function\" can be built. \n",
    "\n",
    "A basic function contains a few bits including:\n",
    "- A way to define the function and its name: \"def my_function():\"\n",
    "- Indent, then the bits of code."
   ]
  },
  {
   "cell_type": "code",
   "execution_count": null,
   "id": "known-myrtle",
   "metadata": {},
   "outputs": [],
   "source": [
    "def test_function():\n",
    "    print(\"This is my test function\")"
   ]
  },
  {
   "cell_type": "markdown",
   "id": "stopped-fleet",
   "metadata": {},
   "source": [
    "However, there may be times to rebuild code that may already exist. Those files of code exist in a standard Python build and are referred to as \"modules\". These bits of files can be imported into your code and once that's done, you have the ability all of the functions in that code.\n",
    "\n",
    "Standard module libraries include:\n",
    "- _os_: a module that allows Python to interact with the operating system\n",
    "- _sys_: a module that gives functions that can be used with the runtime environment\n",
    "- _math_: a standard mathematics function library\n",
    "- _html_ and _urllib_: modules that allows users to work with data on websites and how to parse information effectively\n",
    "\n",
    "\n",
    "For data analysis and data sciences, two great modules are numpy and pandas. __NumPy__ (https://numpy.org/doc/stable/contents.html) is a package that lets you organize data into multidimensional arrays. "
   ]
  },
  {
   "cell_type": "code",
   "execution_count": null,
   "id": "arbitrary-ability",
   "metadata": {},
   "outputs": [],
   "source": [
    "import numpy as np\n"
   ]
  },
  {
   "cell_type": "markdown",
   "id": "perfect-recognition",
   "metadata": {},
   "source": [
    "Generating basic arrays of specific sizes include:\n",
    "\n",
    "| Method |\tDescription |\n",
    "|----|----|\n",
    "|zeros( (N, M, ...) ) | Array of all 0's of shape N entries x M entries|\n",
    "|ones( (N, M, ...) )\t| Array of all 1's of shape N entries x M entries |\n",
    "|empty( (N, M, ...) ) | Empty array of shape N entries x M entries |\n",
    "|eye( N ) | The identity matrix whose axes sizes are of length N |\n",
    "\n",
    "Mathematical Functions are included as functions, including:\n",
    "- add(), subtract(), multiply(), divide()\n",
    "- sin(), cos(), tan(); arcsin(), arccos(), arctan(); sinh(), cosh(), tanh()\n",
    "- Angle conversions: deg2rad() and rad2deg()\n",
    "- exp() and log() \n",
    "- Linear Algebra multiplication operations: dot() and cross()\n",
    "\n",
    "Finally, one can save and load text files into numpy arrays.\n",
    "- loadtxt(filename)\n",
    "- genfromtext(filename, delimiter='')\n",
    "- savetxt(filename, array name, delimiter"
   ]
  },
  {
   "cell_type": "code",
   "execution_count": null,
   "id": "disturbed-painting",
   "metadata": {},
   "outputs": [],
   "source": [
    "np.multiply(25, 1025)\n"
   ]
  },
  {
   "cell_type": "code",
   "execution_count": null,
   "id": "included-dominican",
   "metadata": {},
   "outputs": [],
   "source": [
    "x = np.ones( (3,3) )\n",
    "print(x)"
   ]
  },
  {
   "cell_type": "code",
   "execution_count": null,
   "id": "frequent-punishment",
   "metadata": {},
   "outputs": [],
   "source": [
    "x.dtype"
   ]
  },
  {
   "cell_type": "code",
   "execution_count": null,
   "id": "independent-republican",
   "metadata": {},
   "outputs": [],
   "source": [
    "np.exp( np.multiply(-25, 1025) )"
   ]
  },
  {
   "cell_type": "markdown",
   "id": "pressing-accuracy",
   "metadata": {},
   "source": [
    "Another module is __Pandas__, the \"Python Data Analysis Library\" (https://pandas.pydata.org/docs/). This package also organizes data into dataframes.\n",
    "\n",
    "pandas has two main data structures: `Series` objects and `DataFrame` objects"
   ]
  },
  {
   "cell_type": "code",
   "execution_count": null,
   "id": "starting-typing",
   "metadata": {},
   "outputs": [],
   "source": [
    "import pandas as pd\n",
    "\n",
    "\n",
    "# We can make a DataFrame using a dictionary\n",
    "# the dictionary keys are the column labels\n",
    "# the dictionary values are columns\n",
    "\n",
    "df = pd.DataFrame({'one':[3,4,5,2,4,5], \n",
    "                       'two':['a','b','e','h','l','p']})\n",
    "\n",
    "df"
   ]
  },
  {
   "cell_type": "code",
   "execution_count": null,
   "id": "mineral-galaxy",
   "metadata": {},
   "outputs": [],
   "source": [
    "df['two']"
   ]
  },
  {
   "cell_type": "markdown",
   "id": "helpful-grant",
   "metadata": {},
   "source": [
    "This is a `DataFrame`, the unlabeled column is the index, the labeled columns are `Series` objects themselves.\n",
    "\n",
    "Helpful functions include:\n",
    "- read_csv() and to_csv()\n",
    "- head() and tail()\n",
    "- sort_values(_column_header_name_)\n",
    "- drop( [] ) and dropna()\n",
    "\n",
    "Getting descriptive statistics from `DataFrame` and `Series` objects are easy:\n",
    "- describe(), which gives everything listed below\n",
    "- min() and max()\n",
    "- mean(), median(), and mode()\n",
    "- value_counts()\n"
   ]
  },
  {
   "cell_type": "code",
   "execution_count": null,
   "id": "specific-liberty",
   "metadata": {},
   "outputs": [],
   "source": [
    "df.sort_values(\"one\")"
   ]
  },
  {
   "cell_type": "code",
   "execution_count": null,
   "id": "objective-glossary",
   "metadata": {},
   "outputs": [],
   "source": [
    "df = pd.read_csv(\"catsvdogs.csv\")\n",
    "\n",
    "df.head(5)"
   ]
  },
  {
   "cell_type": "code",
   "execution_count": null,
   "id": "following-bride",
   "metadata": {},
   "outputs": [],
   "source": [
    "df.dtypes"
   ]
  },
  {
   "cell_type": "code",
   "execution_count": null,
   "id": "original-webmaster",
   "metadata": {},
   "outputs": [],
   "source": [
    "df[\"Percentage of households with pets\"].describe()"
   ]
  },
  {
   "cell_type": "code",
   "execution_count": null,
   "id": "aging-tennis",
   "metadata": {},
   "outputs": [],
   "source": [
    "df.describe()"
   ]
  },
  {
   "cell_type": "code",
   "execution_count": null,
   "id": "embedded-surprise",
   "metadata": {},
   "outputs": [],
   "source": [
    "df.sort_values(['Percentage of households with pets'], ascending=False)"
   ]
  },
  {
   "cell_type": "code",
   "execution_count": null,
   "id": "national-porter",
   "metadata": {},
   "outputs": [],
   "source": [
    "X = df['Percentage of households with pets'].to_numpy()\n",
    "X"
   ]
  },
  {
   "cell_type": "code",
   "execution_count": null,
   "id": "broke-management",
   "metadata": {},
   "outputs": [],
   "source": []
  }
 ],
 "metadata": {
  "kernelspec": {
   "display_name": "Python 3",
   "language": "python",
   "name": "python3"
  },
  "language_info": {
   "codemirror_mode": {
    "name": "ipython",
    "version": 3
   },
   "file_extension": ".py",
   "mimetype": "text/x-python",
   "name": "python",
   "nbconvert_exporter": "python",
   "pygments_lexer": "ipython3",
   "version": "3.7.10"
  }
 },
 "nbformat": 4,
 "nbformat_minor": 5
}
